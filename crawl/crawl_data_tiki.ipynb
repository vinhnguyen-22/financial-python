{
 "cells": [
  {
   "cell_type": "code",
   "execution_count": 1,
   "metadata": {},
   "outputs": [],
   "source": [
    "import requests\n",
    "import pandas\n",
    "import time\n",
    "import random\n",
    "import pandas as pd"
   ]
  },
  {
   "cell_type": "code",
   "execution_count": 8,
   "metadata": {},
   "outputs": [],
   "source": [
    "cookies = {\n",
    "  '_trackity=1acaf747-a18c-6be7-29f6-961ce979ece9',\n",
    "  'TOKENS={%22access_token%22:%22EUniFOvCkG2Lbq0eXoh5wPQl9aVB8AMN%22%2C%22expires_in%22:157680000%2C%22expires_at%22:1843913146481%2C%22guest_token%22:%22EUniFOvCkG2Lbq0eXoh5wPQl9aVB8AMN%22}',\n",
    "  'delivery_zone=Vk4wMzkwMDYwMDE=',\n",
    "  '_gid=GA1.2.1907706524.1686233149',\n",
    "  'tiki_client_id=488757990.1686233149',\n",
    "  '_gcl_au=1.1.620343678.1686233152',\n",
    "  '_fbp=fb.1.1686233151749.1102075042',\n",
    "  '_hjIncludedInSessionSample_522327=0',\n",
    "  '_hjSession_522327=eyJpZCI6IjdmZjI5N2I1LTQ4YjctNDkzNi04NTU1LTBhMDU3NGE0ZmMyMyIsImNyZWF0ZWQiOjE2ODYyMzMxNTE5NzEsImluU2FtcGxlIjpmYWxzZX0=',\n",
    "  '_hjFirstSeen=1',\n",
    "  '_hjAbsoluteSessionInProgress=0',\n",
    "  '__uidac=92e2ac8f747c6061570f17f1d0960588',\n",
    "  '__iid=749',\n",
    "  '__iid=749',\n",
    "  '__su=0',\n",
    "  '__su=0',\n",
    "  '__RC=5',\n",
    "  '__R=3',\n",
    "  '_ga=GA1.1.488757990.1686233149',\n",
    "  '_hjSessionUser_522327=eyJpZCI6ImFlM2RlNzQzLWIxZDgtNWU2Mi1hOTliLWM0NjIxYzA2YTcyMSIsImNyZWF0ZWQiOjE2ODYyMzMxNTE5NjUsImV4aXN0aW5nIjp0cnVlfQ==',\n",
    "  '__uif=__uid%3A7662331531952900797%7C__ui%3A-1%7C__create%3A1686233153',\n",
    "  '__tb=0',\n",
    "  '__IP=1952900797',\n",
    "  '_ga_GSD4ETCY1D=GS1.1.1686233151.1.1.1686233625.60.0.0',\n",
    "  'amp_99d374=cmYlakXmp2IpsvGZaWCN_w...1h2dl7ouk.1h2dlmd6d.6.d.j'\n",
    "}\n",
    "\n",
    "headers={\n",
    "  'alt-svc': 'h3=\\':443\\'; ma=2592000,h3-29=\\':443\\'; ma=2592000',\n",
    "  'content-type': 'application/json',\n",
    "  'date': 'Thu, 08 Jun 2023 14:13:46 GMT',\n",
    "  'strict-transport-security': 'max-age=15724800; includeSubDomains',\n",
    "  'vary': 'Origin',\n",
    "  'via': '1.1 google',\n",
    "  'x-content-type-options': 'nosniff',\n",
    "  'x-frame-options': 'SAMEORIGIN',\n",
    "  'x-trace-id': '00000000000000000000000000000000',\n",
    "  'x-xss-protection': '1; mode=block'\n",
    "}\n",
    "\n",
    "params = {\n",
    "  'limit': '40',\n",
    "  'include': 'advertisement',\n",
    "  'aggregations': '2',\n",
    "  'trackity_id': '1acaf747-a18c-6be7-29f6-961ce979ece9',\n",
    "  'category': '8322',\n",
    "  'page': '1',\n",
    "  'urlKey': 'nha-sach-tiki'\n",
    "}"
   ]
  },
  {
   "cell_type": "code",
   "execution_count": 12,
   "metadata": {},
   "outputs": [],
   "source": [
    "product_id = []\n",
    "\n",
    "for i in range(1,11):\n",
    "    params['page'] = i\n",
    "    res = requests.get('https://tiki.vn/api/personalish/v1/blocks/listings', headers=headers, params=params)\n",
    "    if res.status_code == 200:\n",
    "        print(\"request success\")\n",
    "        for record in res.json().get('data'):\n",
    "            product_id.append({'id': record.get('id')})\n",
    "        time.sleep(random.randrange(3,10))\n",
    "\n",
    "df = pd.DataFrame(product_id)\n",
    "\n",
    "df.to_csv('tiki/productId_dtmb.csv', index=False)\n"
   ]
  }
 ],
 "metadata": {
  "kernelspec": {
   "display_name": "Python 3",
   "language": "python",
   "name": "python3"
  },
  "language_info": {
   "codemirror_mode": {
    "name": "ipython",
    "version": 3
   },
   "file_extension": ".py",
   "mimetype": "text/x-python",
   "name": "python",
   "nbconvert_exporter": "python",
   "pygments_lexer": "ipython3",
   "version": "3.11.4"
  },
  "orig_nbformat": 4
 },
 "nbformat": 4,
 "nbformat_minor": 2
}
